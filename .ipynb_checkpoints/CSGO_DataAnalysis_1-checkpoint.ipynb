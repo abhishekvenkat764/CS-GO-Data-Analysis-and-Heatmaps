{
 "cells": [
  {
   "cell_type": "markdown",
   "metadata": {},
   "source": [
    "<h1>CS:GO Data Mining a Nested Json dataset.</h1>\n",
    "<a href=\"https://www.linkedin.com/in/abhishek-venkatachalam-62121049/\">Abhishek Venkatachalam</a>\n",
    "\n",
    "\n",
    "<h2>Objective:</h2>\n",
    "Pick any ONE JSON file from the data set and expand ALL columns (some columns need expanding multiple times).  Select TWO types of data and try to understand what the data is telling you about the match (for example, what does comparing \"Alive Players Health\" and \"Round Status Time Left\" tell you about the match?). Turn these two bits of data into a visualisation to clearly and accurately explain the data.\n",
    "\n",
    "\n",
    "<h3>Steps to achieve the objective:</h3>\n",
    "\n",
    "<b>0) Getting everything ready:</b> Importing the necessary headers and setting things up.  \n",
    "<b>1) Data Selection:</b>Select and Import the JSON.  \n",
    "<b>2) Data Cleaning and Preprocessing:</b> Expand Nested Json and remove the unnecessary maps and select just 1 map.  \n",
    "<b>3) Data Transformation:</b> Remove unnecessary columns, expand the nested json. Convert categorical data into discrete numerical ones.  \n",
    "<b>4) Data Analysis:</b> Perform the analysis and plot the graphs.  \n",
    "<b>5) Conclusions:</b> Present the findings and knowledge discovered.   \n",
    "\n",
    "  \n",
    "\n",
    "<h3>0) Getting everything ready:</h3>  \n",
    "\n",
    "\n"
   ]
  },
  {
   "cell_type": "code",
   "execution_count": 154,
   "metadata": {},
   "outputs": [],
   "source": [
    "#Importing all the necessary headers\n",
    "import pandas as pd\n",
    "from pandas.io.json import json_normalize\n",
    "\n",
    "import requests\n",
    "\n",
    "import matplotlib.cm as cm\n",
    "from scipy.ndimage.filters import gaussian_filter\n",
    "from scipy.stats import chi2_contingency\n",
    "import pylab as pl\n",
    "\n",
    "import numpy as np\n",
    "import numpy.random\n",
    "import seaborn as sns\n",
    "import matplotlib.pyplot as plt\n",
    "\n",
    "import scipy\n",
    "from scipy import stats\n",
    "from statsmodels.stats.weightstats import DescrStatsW\n",
    "from sklearn.preprocessing import LabelEncoder"
   ]
  },
  {
   "cell_type": "markdown",
   "metadata": {},
   "source": [
    "<h3>1) Data Selection:</h3>"
   ]
  },
  {
   "cell_type": "code",
   "execution_count": null,
   "metadata": {
    "scrolled": true
   },
   "outputs": [],
   "source": [
    "#Loading the json into the dataframe, please change the file path appropriately.\n",
    "df_initialdataset = pd.read_json('D:/University_of_Leicester/GitHub_Projects/Data-Analysis-for-eSports/CSGO_masterdata_2020.json')\n",
    "\n",
    "#Viewing a snippet of the dataset. Observe the \"alive_players\" column.\n",
    "df_initialdataset.head(2)"
   ]
  },
  {
   "cell_type": "markdown",
   "metadata": {},
   "source": [
    "    \n",
    "<h3>2) Data Cleaning and Preprocessing</h3>     \n"
   ]
  },
  {
   "cell_type": "markdown",
   "metadata": {},
   "source": [
    "<h4>Removing the unnecessary maps</h4>"
   ]
  },
  {
   "cell_type": "code",
   "execution_count": null,
   "metadata": {
    "scrolled": true
   },
   "outputs": [],
   "source": [
    "#Removing the unnecessary maps and storing the features of the map \"de_mirage\" into a new dataframe \"df_preDataset\"\n",
    "df_preDataset = df_initialdataset.loc[df_initialdataset['map'] == 'de_mirage'].reset_index()\n",
    "\n",
    "#Displaying a snippet of the \"df_dataset\" with just the map data of \"de_mirage\"\n",
    "df_preDataset.head(2)"
   ]
  },
  {
   "cell_type": "markdown",
   "metadata": {},
   "source": [
    "     \n",
    "<h3>3) Data Transformation</h3>    \n",
    "\n"
   ]
  },
  {
   "cell_type": "markdown",
   "metadata": {},
   "source": [
    "<h4>Dropping the unnecessary columns</h4>"
   ]
  },
  {
   "cell_type": "code",
   "execution_count": null,
   "metadata": {
    "scrolled": true
   },
   "outputs": [],
   "source": [
    "#Dropping the columns - 'active_smokes', 'active_molotovs', 'previous_kills', 'planted_bomb' from the \"df_dataset\" to declutter the dataset.\n",
    "df_dataset = df_preDataset.drop(['active_smokes', 'active_molotovs', 'planted_bomb'], axis = 1)\n",
    "\n",
    "#Displaying a snippet of the \"df_dataset\" after decluttering\n",
    "df_dataset.head(2)\n",
    "\n"
   ]
  },
  {
   "cell_type": "markdown",
   "metadata": {},
   "source": [
    "<h4>Expanding the nested json of \"active players\" and \"position history\" into distinct columns</h4>"
   ]
  },
  {
   "cell_type": "code",
   "execution_count": null,
   "metadata": {},
   "outputs": [],
   "source": [
    "#Let's expand the nested json within \"alive_players\" into different columns.\n",
    "#CAUTION - DO NOT use the below method if your column has blank values in between the rows where no nesten json query exists.\n",
    "\n",
    "#Storing the nested json from the column \"alive_players\" as a Series in \"data_aliveplayers\"\n",
    "columnName = 'alive_players'\n",
    "data_aliveplayers = df_dataset[columnName]\n",
    "list_aliveplayers = list()\n",
    "\n",
    "\n",
    "#Iterating through the \"list_aliveplayers\" and seggregating the json snippets into individual lists\n",
    "#Appending the nested jsons as individual lists to be later turned into columns in a DataFrame.\n",
    "for nestedJson in data_aliveplayers:\n",
    "    list_aliveplayers.append(nestedJson[0])\n",
    "\n",
    "#Converting the list into a dataframe \"df_aliveplayers\".\n",
    "df_aliveplayers = pd.DataFrame(list_aliveplayers)\n",
    "\n",
    "#Soring the nested json from the column \"position_history\" into distinct columns.\n",
    "data_positionHistory = df_aliveplayers['position_history']\n",
    "list_positionHistory = list()\n",
    "\n",
    "#Iterating through the \"list_positionHistory\" and seggregating the json snippets into individual lists\n",
    "#Appending the nested jsons as individual lists to be later turned into columns in a DataFrame.\n",
    "for nestedJson in data_positionHistory:\n",
    "    list_positionHistory.append(nestedJson[0])\n",
    "\n",
    "#Converting the list into a dataframe \"df_positionHistory\".\n",
    "df_positionHistory = pd.DataFrame(list_positionHistory)\n",
    "\n",
    "#Merging the tables \"df_aliveplayers\" and \"df_positionHistory\" into \"df_aliveplayers\".\n",
    "df_aliveplayers = pd.concat([df_aliveplayers, df_positionHistory], axis=1)\n",
    "\n",
    "#Dropping the additional \"position_history\" table.\n",
    "df_aliveplayers = df_aliveplayers.drop(['position_history'], axis=1)\n",
    "\n",
    "#Storing the nested json from the column \"inventory\" as a Series in \"data_inventory\"\n",
    "data_inventory = df_aliveplayers['inventory']\n",
    "list_inventory = list()\n",
    "\n",
    "\n",
    "#Iterating through the \"inventory\" and seggregating the json snippets into individual lists\n",
    "#Appending the nested jsons as individual lists to be later turned into columns in a DataFrame.\n",
    "for nestedJson in data_inventory:\n",
    "    list_inventory.append(nestedJson[0])\n",
    "\n",
    "#Converting the list into a dataframe \"df_inventory\".\n",
    "df_inventory = pd.DataFrame(list_inventory)\n",
    "                               \n",
    "#Merging the tables \"df_aliveplayers\" and \"df_positionHistory\" into \"df_aliveplayers\".\n",
    "df_aliveplayers = pd.concat([df_aliveplayers, df_inventory], axis=1)                              \n",
    "\n",
    "#Dropping the column 'inventory' from 'df_aliveplayers'.\n",
    "df_aliveplayers = df_aliveplayers.drop(['inventory'], axis=1)\n",
    "\n",
    "#Intermediate-step: Displaying a snippet of the Dataframe after converting the nested jsons into columns of the dataframe \"df_aliveplayers\".\n",
    "df_aliveplayers.head(5)\n"
   ]
  },
  {
   "cell_type": "markdown",
   "metadata": {},
   "source": [
    "<h4>Merging the expanded \"nested json\" columsn with the actual table \"df_dataset\""
   ]
  },
  {
   "cell_type": "code",
   "execution_count": null,
   "metadata": {
    "scrolled": true
   },
   "outputs": [],
   "source": [
    "#Dropping the \"alive_players\" column\n",
    "df_xdataset = df_dataset.drop(['alive_players'], axis=1)\n",
    "\n",
    "#Changing the settings to display all the columns.\n",
    "pd.set_option('display.max_columns', None)\n",
    "\n",
    "#Merging (and displaying a snippet of) the 2 tables - \"df_xdataset\" and \"df_aliveplayers\"\n",
    "df_finaltable = pd.concat([df_xdataset, df_aliveplayers], axis = 1).reindex(df_dataset.index)\n",
    "df_finaltable.head(5)\n"
   ]
  },
  {
   "cell_type": "markdown",
   "metadata": {},
   "source": [
    "<h3>4) Data Analysis</h3>"
   ]
  },
  {
   "cell_type": "markdown",
   "metadata": {},
   "source": [
    "<h4>Describing the statstically significant aspects of the table.</h4>"
   ]
  },
  {
   "cell_type": "code",
   "execution_count": null,
   "metadata": {},
   "outputs": [],
   "source": [
    "df_finaltable.describe()\n",
    "#Since the count of all of these columns is 195, we don't have to fill in any gaps."
   ]
  },
  {
   "cell_type": "code",
   "execution_count": null,
   "metadata": {
    "scrolled": false
   },
   "outputs": [],
   "source": [
    "## This line sets the figure size\n",
    "plt.rcParams['figure.figsize']=(7.5,5)\n",
    "\n",
    "## This line plots the data. Here we are using the barplot() of seaborn.\n",
    "## Normal arguments are x = column to be used for x-axis, same for y, and data = dataframe to be used\n",
    "ax = sns.barplot(x = 'round_winner', y = 'reserve_ammo',data = df_finaltable)\n",
    "\n",
    "## Setting the y-label\n",
    "plt.ylabel(\"Amount of Reserve Ammo\")\n",
    "\n",
    "plt.show()"
   ]
  },
  {
   "cell_type": "code",
   "execution_count": null,
   "metadata": {},
   "outputs": [],
   "source": [
    "sns.set_theme(style=\"darkgrid\")\n",
    "sns.countplot(x='round_winner', data=df_finaltable)\n",
    "#df_finaltable.head()"
   ]
  },
  {
   "cell_type": "code",
   "execution_count": null,
   "metadata": {},
   "outputs": [],
   "source": [
    "#After hours of trying, I finally \"give up\". I am exporting the \"previos_kills\" column to a json file.\n",
    "#I will open it up in excel and expand the internal rows.\n",
    "#Load the expanded rows back into python and merge it with the df_finaltable.\n",
    "#I will also attach the converted file to the git hub for anyone willing, to try it.\n",
    "#If any of you find a better approach to flatted these super complicated nested jsons, you will have my blessings.\n",
    "#----------------------------------------\n",
    "\n",
    "#The total number of rows after expanding is 2004, there is a disparity, but we are just going to roll with it since its from the same dataset for the same map.\n",
    "#Lets go.\n",
    "\n",
    "df_previousKills = pd.read_csv('D:/University_of_Leicester/MS_DABI/MA3002_Data_Mining_and_Neural_Networks/Learn_Python/PreviousKills.csv')\n",
    "df_previousKills.head()"
   ]
  },
  {
   "cell_type": "code",
   "execution_count": null,
   "metadata": {},
   "outputs": [],
   "source": [
    "sns.catplot(y=\"weapon\", kind=\"count\", palette=\"pastel\", edgecolor=\".6\", data=df_previousKills, order=df_previousKills.weapon.value_counts().sort_values(ascending=False).index)"
   ]
  },
  {
   "cell_type": "code",
   "execution_count": null,
   "metadata": {
    "scrolled": true
   },
   "outputs": [],
   "source": [
    "contigency= pd.crosstab(df_previousKills['attacker_side'], df_previousKills['weapon']) \n",
    "contigency"
   ]
  },
  {
   "cell_type": "markdown",
   "metadata": {},
   "source": [
    "<h4>The Terrorists appear to have a lot more of AK47 and sg553. Perhaps this has something to do with them winning more often.</h4>"
   ]
  },
  {
   "cell_type": "code",
   "execution_count": null,
   "metadata": {
    "scrolled": true
   },
   "outputs": [],
   "source": [
    "#Plot a heat map of the attacker_side vs weapon.\n",
    "plt.figure(figsize=(10,5)) \n",
    "\n",
    "#pd.crosstab is used to build a cross tabulation of data points that show the fequency with which these groups of data appea.\n",
    "contigency = pd.crosstab(df_previousKills['weapon'], df_previousKills['attacker_side'])\n",
    "sns.heatmap(contigency, annot=True, cmap=\"YlGnBu\")"
   ]
  },
  {
   "cell_type": "markdown",
   "metadata": {},
   "source": [
    "<h4>Heat map of the all victims</h4>"
   ]
  },
  {
   "cell_type": "code",
   "execution_count": null,
   "metadata": {},
   "outputs": [],
   "source": [
    "fig, ax = plt.subplots(figsize = (20,10))\n",
    "\n",
    "#Importing and reading the background map image.\n",
    "im = plt.imread('D:/University_of_Leicester/GitHub_Projects/Data-Analysis-for-eSports/CSGOmirage.png')\n",
    "implot = ax.imshow(im, extent=[-3000, 2000, -3100, 1370])\n",
    "\n",
    "#Plotting the heatmap for the victims.\n",
    "ax.plot(df_previousKills['victim_position.x'], df_previousKills['victim_position.y'], 'o', linewidth=1, color='turquoise')\n",
    "\n"
   ]
  },
  {
   "cell_type": "markdown",
   "metadata": {},
   "source": [
    "<h4>Heat map of the all the attackers.</h4>"
   ]
  },
  {
   "cell_type": "code",
   "execution_count": null,
   "metadata": {
    "scrolled": true
   },
   "outputs": [],
   "source": [
    "fig, ax = plt.subplots(figsize = (20,10))\n",
    "\n",
    "#Importing and reading the background map image.\n",
    "im = plt.imread('D:/University_of_Leicester/GitHub_Projects/Data-Analysis-for-eSports/CSGOmirage.png')\n",
    "implot = ax.imshow(im, extent=[-3000, 2000, -3100, 1370])\n",
    "\n",
    "#Plotting the heatmap for the victims.\n",
    "ax.plot(df_previousKills['attacker_position.x'], df_previousKills['attacker_position.y'], 'o', linewidth=1, color='firebrick')\n",
    "\n"
   ]
  },
  {
   "cell_type": "markdown",
   "metadata": {},
   "source": [
    "<h4>Heat map of the attacker (red - Terrorist) and the victim (blue).</h4>"
   ]
  },
  {
   "cell_type": "code",
   "execution_count": null,
   "metadata": {
    "scrolled": true
   },
   "outputs": [],
   "source": [
    "fig, ax = plt.subplots(figsize = (20,10))\n",
    "\n",
    "#Importing and reading the background map image.\n",
    "im = plt.imread('D:/University_of_Leicester/GitHub_Projects/Data-Analysis-for-eSports/CSGOmirage.png')\n",
    "implot = ax.imshow(im, extent=[-3000, 2000, -3100, 1370])\n",
    "\n",
    "#Plotting the heatmap for the victims.\n",
    "ax.plot(df_previousKills['victim_position.x'], df_previousKills['victim_position.y'], 'o', linewidth=1, color='turquoise')\n",
    "ax.plot(df_previousKills['attacker_position.x'], df_previousKills['attacker_position.y'], 'o', linewidth=1, color='firebrick')\n"
   ]
  },
  {
   "cell_type": "markdown",
   "metadata": {},
   "source": [
    "<h4>Heat map of where the Terrorists attacked.</h4>"
   ]
  },
  {
   "cell_type": "code",
   "execution_count": null,
   "metadata": {},
   "outputs": [],
   "source": [
    "df_attacker_Terrorist = df_previousKills.loc[df_previousKills.attacker_side == 'Terrorist'].reset_index()\n",
    "\n",
    "fig, ax = plt.subplots(figsize = (20,10))\n",
    "\n",
    "#Importing and reading the background map image.\n",
    "im = plt.imread('D:/University_of_Leicester/GitHub_Projects/Data-Analysis-for-eSports/CSGOmirage.png')\n",
    "implot = ax.imshow(im, extent=[-3000, 2000, -3100, 1370])\n",
    "\n",
    "#Plotting the heatmap for the Terrorsit attackers.\n",
    "ax.plot(df_attacker_Terrorist['attacker_position.x'], df_attacker_Terrorist['attacker_position.y'], 'o', linewidth=1, color='red')\n"
   ]
  },
  {
   "cell_type": "markdown",
   "metadata": {},
   "source": [
    "<h4>Heat map of where the CT attacked.</h4>"
   ]
  },
  {
   "cell_type": "code",
   "execution_count": null,
   "metadata": {},
   "outputs": [],
   "source": [
    "df_attacker_CT = df_previousKills.loc[df_previousKills.attacker_side == 'CT'].reset_index()\n",
    "\n",
    "fig, ax = plt.subplots(figsize = (20,10))\n",
    "\n",
    "#Importing and reading the background map image.\n",
    "im = plt.imread('D:/University_of_Leicester/GitHub_Projects/Data-Analysis-for-eSports/CSGOmirage.png')\n",
    "implot = ax.imshow(im, extent=[-3000, 2000, -3100, 1370])\n",
    "\n",
    "#Plotting the heatmap for the CT attackers.\n",
    "ax.plot(df_attacker_CT['attacker_position.x'], df_attacker_CT['attacker_position.y'], 'o', linewidth=1, color='blue')\n"
   ]
  },
  {
   "cell_type": "markdown",
   "metadata": {},
   "source": [
    "<H4>Heat map of where the Terrorist was a victim</H4>"
   ]
  },
  {
   "cell_type": "code",
   "execution_count": null,
   "metadata": {},
   "outputs": [],
   "source": [
    "df_victim_Terrorist = df_previousKills.loc[df_previousKills.victim_side == 'Terrorist'].reset_index()\n",
    "\n",
    "fig, ax = plt.subplots(figsize = (20,10))\n",
    "\n",
    "#Importing and reading the background map image.\n",
    "im = plt.imread('D:/University_of_Leicester/GitHub_Projects/Data-Analysis-for-eSports/CSGOmirage.png')\n",
    "implot = ax.imshow(im, extent=[-3000, 2000, -3100, 1370])\n",
    "\n",
    "#Plotting the heatmap when the CT was a victim..\n",
    "ax.plot(df_victim_Terrorist['victim_position.x'], df_victim_Terrorist['victim_position.y'], 'o', linewidth=1, color='red')\n"
   ]
  },
  {
   "cell_type": "markdown",
   "metadata": {},
   "source": [
    "<H4>Heat map of where the CT was a victim</H4>"
   ]
  },
  {
   "cell_type": "code",
   "execution_count": null,
   "metadata": {},
   "outputs": [],
   "source": [
    "df_victim_CT = df_previousKills.loc[df_previousKills.victim_side == 'CT'].reset_index()\n",
    "\n",
    "fig, ax = plt.subplots(figsize = (20,10))\n",
    "\n",
    "#Importing and reading the background map image.\n",
    "im = plt.imread('D:/University_of_Leicester/GitHub_Projects/Data-Analysis-for-eSports/CSGOmirage.png')\n",
    "implot = ax.imshow(im, extent=[-3000, 2000, -3100, 1370])\n",
    "\n",
    "#Plotting the heatmap when the CT was a victim.\n",
    "ax.plot(df_victim_CT['victim_position.x'], df_victim_CT['victim_position.y'], 'o', linewidth=1, color='turquoise')\n"
   ]
  },
  {
   "cell_type": "markdown",
   "metadata": {},
   "source": [
    "<h3>5) Conclusions: Present the findings and knowledge discovered</h3>\n",
    "\n",
    "The terrorists appear to have an edge over the CT in terms of their ability to win matches, this could be a factor of their ability to keep a significantly greater amount of reserve ammo which leads us to the following possibilities:\n",
    "\n",
    "a) The Terrorists are just good at obtaining more ammo than the CT.\n",
    "b) The Terrorists fire less but more precisely.\n",
    "\n",
    "Both of these require further analysis to be proven conclusively.\n",
    "\n",
    "\n",
    "<h3>Suggestions to the CT Team</h3>\n",
    "    \n",
    "Taking a deeper look at all the heatmaps (Yes, I agree, they are way too much heatmaps for one notebook.) hints us that the Terrorists more than often approach the CT from the \"TOP MID\" or the \"T RAMP\", It would be beneficial if the CT took the stairs to attack the terrorists from behind to give an element of surprise as those areas see consistently less activity.\n",
    "\n",
    "It also doesn't help the CT, that the Terrorists significantly have more AK-47 which is one of the best weapon as far as the ranking of weapons is concerned. (The stats for the weapons are just a google search away, I haven't included them here.)\n",
    "\n",
    "_______________________________________\n",
    "\n",
    "Thank you for reading so far. Have a lovely day."
   ]
  }
 ],
 "metadata": {
  "kernelspec": {
   "display_name": "Python 3",
   "language": "python",
   "name": "python3"
  },
  "language_info": {
   "codemirror_mode": {
    "name": "ipython",
    "version": 3
   },
   "file_extension": ".py",
   "mimetype": "text/x-python",
   "name": "python",
   "nbconvert_exporter": "python",
   "pygments_lexer": "ipython3",
   "version": "3.8.5"
  }
 },
 "nbformat": 4,
 "nbformat_minor": 4
}
